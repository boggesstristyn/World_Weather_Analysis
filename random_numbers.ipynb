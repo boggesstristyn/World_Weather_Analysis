{
 "cells": [
  {
   "cell_type": "code",
   "execution_count": 1,
   "id": "54def3be",
   "metadata": {},
   "outputs": [],
   "source": [
    "# Import the random module.\n",
    "import random"
   ]
  },
  {
   "cell_type": "code",
   "execution_count": 2,
   "id": "0a47f2c9",
   "metadata": {},
   "outputs": [
    {
     "data": {
      "text/plain": [
       "55"
      ]
     },
     "execution_count": 2,
     "metadata": {},
     "output_type": "execute_result"
    }
   ],
   "source": [
    "random.randint(-90, 90)"
   ]
  },
  {
   "cell_type": "code",
   "execution_count": 3,
   "id": "411f2228",
   "metadata": {},
   "outputs": [
    {
     "data": {
      "text/plain": [
       "0.054642355943436804"
      ]
     },
     "execution_count": 3,
     "metadata": {},
     "output_type": "execute_result"
    }
   ],
   "source": [
    "random.random()"
   ]
  },
  {
   "cell_type": "code",
   "execution_count": 4,
   "id": "40082fd3",
   "metadata": {},
   "outputs": [],
   "source": [
    "x = 1\n",
    "latitudes = []\n",
    "while x < 11:\n",
    "    random_lat = random.randint(-90, 89) + random.random()\n",
    "    latitudes.append(random_lat)\n",
    "    x += 1\n",
    "\n",
    "    \n",
    "#In the code block above, we:\n",
    "\n",
    "#Assign the variable x to 1.\n",
    "#Initialize an empty list, latitudes.\n",
    "#We create a while loop where we generate a random latitude and add it to the list.\n",
    "#After the random latitude is added to the list we add one to the variable \"x\".\n",
    "#The while loop condition is checked again and will continue to run as long as x is less than 11."
   ]
  },
  {
   "cell_type": "code",
   "execution_count": 5,
   "id": "8b9e696f",
   "metadata": {},
   "outputs": [
    {
     "data": {
      "text/plain": [
       "-27"
      ]
     },
     "execution_count": 5,
     "metadata": {},
     "output_type": "execute_result"
    }
   ],
   "source": [
    "random.randrange(-90, 90, step=3)"
   ]
  },
  {
   "cell_type": "code",
   "execution_count": 6,
   "id": "27c64f33",
   "metadata": {},
   "outputs": [],
   "source": [
    "# Import the NumPy module.\n",
    "import numpy as np"
   ]
  },
  {
   "cell_type": "code",
   "execution_count": 7,
   "id": "a23a0d8c",
   "metadata": {},
   "outputs": [
    {
     "data": {
      "text/plain": [
       "-42.98750440872159"
      ]
     },
     "execution_count": 7,
     "metadata": {},
     "output_type": "execute_result"
    }
   ],
   "source": [
    "np.random.uniform(-90.000, 90.000)"
   ]
  },
  {
   "cell_type": "code",
   "execution_count": 8,
   "id": "f709092c",
   "metadata": {},
   "outputs": [
    {
     "data": {
      "text/plain": [
       "array([-37.4415284 ,  23.33476722, -79.23751722,  25.76182055,\n",
       "       -73.00513679,  20.13650241,  -6.74461016, -72.39779856,\n",
       "       -23.74164527, -35.19185342, -66.1558854 , -78.90846943,\n",
       "        78.74497408, -44.62030349,  24.31620069, -78.30916544,\n",
       "       -30.24188775, -76.98339762,  18.22055168,  77.11985937,\n",
       "        14.67976292,   0.74732809,  76.45978812, -19.54190824,\n",
       "        41.45671911,  -9.72638447, -12.39919421,   7.27002209,\n",
       "        53.30967279, -84.64942015, -28.65410676, -41.50912861,\n",
       "        45.04975622,   4.58959853, -43.41251274, -49.99464868,\n",
       "        50.66671425, -66.90027355, -25.24944249,  69.26634626,\n",
       "       -45.75461621,  43.21436894,   2.79056418, -10.48638519,\n",
       "        65.75660639,  22.76106493,  14.56501899, -26.02067561,\n",
       "       -44.06232398, -50.37123651])"
      ]
     },
     "execution_count": 8,
     "metadata": {},
     "output_type": "execute_result"
    }
   ],
   "source": [
    "np.random.uniform(-90.000, 90.000, size=50)"
   ]
  },
  {
   "cell_type": "code",
   "execution_count": 9,
   "id": "52ffecb1",
   "metadata": {},
   "outputs": [],
   "source": [
    "# Import timeit.\n",
    "import timeit"
   ]
  },
  {
   "cell_type": "code",
   "execution_count": 10,
   "id": "7fe12adb",
   "metadata": {},
   "outputs": [
    {
     "name": "stdout",
     "output_type": "stream",
     "text": [
      "18.3 µs ± 760 ns per loop (mean ± std. dev. of 7 runs, 100000 loops each)\n"
     ]
    }
   ],
   "source": [
    "# %timeit 'magic command'\n",
    "%timeit np.random.uniform(-90.000, 90.000, size=1500)"
   ]
  },
  {
   "cell_type": "code",
   "execution_count": 11,
   "id": "6d4a794a",
   "metadata": {},
   "outputs": [
    {
     "name": "stdout",
     "output_type": "stream",
     "text": [
      "2.81 ms ± 89.6 µs per loop (mean ± std. dev. of 7 runs, 100 loops each)\n"
     ]
    }
   ],
   "source": [
    "#run while loop as a function\n",
    "def latitudes(size):\n",
    "    latitudes = []\n",
    "    x = 0\n",
    "    while x < (size):\n",
    "        random_lat = random.randint(-90, 90) + random.random()\n",
    "        latitudes.append(random_lat)\n",
    "        x += 1\n",
    "    return latitudes\n",
    "# Call the function with 1500.\n",
    "%timeit latitudes(1500)"
   ]
  },
  {
   "cell_type": "code",
   "execution_count": null,
   "id": "42dfb1a0",
   "metadata": {},
   "outputs": [],
   "source": [
    "# SKILL DRILL 6.1.4\n",
    "\n",
    "#x = 1\n",
    "#latitudes = []\n",
    "#while x < 11:\n",
    "#    random_lat = random.randint(-90, 89) + random.random()\n",
    "#    latitudes.append(random_lat)\n",
    "#    x += 1"
   ]
  },
  {
   "cell_type": "code",
   "execution_count": null,
   "id": "cb700f2f",
   "metadata": {},
   "outputs": [],
   "source": []
  }
 ],
 "metadata": {
  "kernelspec": {
   "display_name": "PythonData",
   "language": "python",
   "name": "pythondata"
  },
  "language_info": {
   "codemirror_mode": {
    "name": "ipython",
    "version": 3
   },
   "file_extension": ".py",
   "mimetype": "text/x-python",
   "name": "python",
   "nbconvert_exporter": "python",
   "pygments_lexer": "ipython3",
   "version": "3.7.11"
  }
 },
 "nbformat": 4,
 "nbformat_minor": 5
}
